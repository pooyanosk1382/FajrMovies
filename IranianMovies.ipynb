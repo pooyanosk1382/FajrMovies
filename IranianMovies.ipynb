{
 "cells": [
  {
   "cell_type": "code",
   "execution_count": 1,
   "outputs": [],
   "source": [
    "import ast\n",
    "import numpy as np\n",
    "import pandas as pd\n",
    "import plotly.express as px\n",
    "from IPython.core.display import HTML\n",
    "import os"
   ],
   "metadata": {
    "collapsed": false,
    "pycharm": {
     "name": "#%%\n"
    }
   }
  },
  {
   "cell_type": "code",
   "execution_count": 2,
   "outputs": [],
   "source": [
    "df = pd.read_csv(\"data2.csv\")\n",
    "\n",
    "df['Score'][df['Score'].str.contains('/')] = .64\n",
    "df['Score'] = 100* df['Score'].astype(float)\n",
    "df['Voted'] = df['Voted'].fillna('-')\n",
    "df.loc[ df['Voted'] == '-', 'Voted'] = 0\n",
    "df.loc[ df['Voted'] == \"['6.4/10']\", 'Voted'] = 0\n",
    "\n",
    "df['Voted'] = 100* df['Voted'].astype(float)\n",
    "\n",
    "actors =set()\n",
    "for item in df['Actors']:\n",
    "    items =  ast.literal_eval(item)\n",
    "\n",
    "    for actor in items:\n",
    "        if len(actor) > 5:\n",
    "            actors.add(actor.strip())\n",
    "actors= list(actors)\n",
    "def actorHandler(x):\n",
    "    x = ast.literal_eval(x)\n",
    "    x = [ y.strip() for y in x]\n",
    "    return ','.join(x)\n",
    "df['Actors'] = df['Actors'].apply(actorHandler)"
   ],
   "metadata": {
    "collapsed": false,
    "pycharm": {
     "name": "#%%\n"
    }
   }
  },
  {
   "cell_type": "code",
   "execution_count": 3,
   "outputs": [
    {
     "data": {
      "text/plain": "<IPython.core.display.HTML object>",
      "text/html": "<table border=\"1\" class=\"dataframe\">\n  <thead>\n    <tr style=\"text-align: right;\">\n      <th></th>\n      <th>Name</th>\n      <th>Actors</th>\n      <th>Score</th>\n      <th>About</th>\n      <th>Genre</th>\n      <th>Crew</th>\n      <th>Image</th>\n      <th>Voted</th>\n      <th>Type</th>\n    </tr>\n  </thead>\n  <tbody>\n    <tr>\n      <th>0</th>\n      <td>عطش</td>\n      <td>بهرام رادان,فریبرز عرب نیا,شهرام حقیقت دوست,شبنم قلی خانی,ساغر عزیزی,طیب شرافتی</td>\n      <td>88.0</td>\n      <td>NaN</td>\n      <td>['اکشن', 'ماجراجویی']</td>\n      <td>[' محمدحسین فرح بخش', ' عبدالله علیخانی', ' فرج الله حیدری ', ' پیمان معادی', ' کیوان جهانشاهی']</td>\n      <td><img src=\"https://static.cdn.asset.filimo.com/flmt/mov_9937_959-m.jpg\" width=\"60\" ></td>\n      <td>76100.0</td>\n      <td>فیلم</td>\n    </tr>\n    <tr>\n      <th>1</th>\n      <td>یکی از میان همه</td>\n      <td>سروش صحت,رامین راستاد,آزاده صمدی,کیانوش گرامی,حمیدرضا پگاه</td>\n      <td>69.0</td>\n      <td>نیلوفر و نرگس بدون اطلاع همسرانشان مجبور به سفری ناخواسته می شوند و همسرانشان در تعقیب آنها...</td>\n      <td>['اکشن', 'هیجان انگیز']</td>\n      <td>[' ابراهیم شیبانی']</td>\n      <td><img src=\"https://static.cdn.asset.filimo.com/flmt/mov_1566_15587-m.jpg\" width=\"60\" ></td>\n      <td>28000.0</td>\n      <td>فیلم</td>\n    </tr>\n    <tr>\n      <th>2</th>\n      <td>جاده جنایت</td>\n      <td>لعیا زنگنه,کاوه آرمیده,حشمت الله آرمیده</td>\n      <td>76.0</td>\n      <td>وقتی کتایون نگرانی و اضطراب بیش از حد شوهرش – کامبیز – را می بیند، وی را نزد یک روانپزشک می فرستد و خود برای بازی در یک فیلم عازم ویلایشان در شمال می شود. در شمال کتایون که مجبور است به دلیل وضعیت نامناسب هوا در ویلا بماند...</td>\n      <td>['اکشن', 'هیجان انگیز']</td>\n      <td>[' جهانبخش ایمانی', ' ذبیح الله رحمانی', ' آرزو محمدنژاد', ' جهانبخش ایمانی']</td>\n      <td><img src=\"https://static.cdn.asset.filimo.com/flmt/mov_740_114-m.jpg\" width=\"60\" ></td>\n      <td>53000.0</td>\n      <td>فیلم</td>\n    </tr>\n    <tr>\n      <th>3</th>\n      <td>ساوالان</td>\n      <td>مجید مظفری,محمد برسوزیان,فردوس کاویانی,خسرو دستگیر</td>\n      <td>90.0</td>\n      <td>روستای ساوالان هرسال توسط گروهی راهزن غارت می شود. اهالی روستا گروهی را برای کمک می طلبند جوانی به نام سلام به این گروه ملحق می شود. ولی گروهی که برای کمک آمده اند باعث اتفاقات دیگری می شوند.</td>\n      <td>['اکشن', 'ماجراجویی']</td>\n      <td>[' یدالله صمدی', ' سیفعلی سیدکوثری نژاد', ' یدالله صمدی', ' فرهاد فخرالدینی', ' حسن قلی زاده']</td>\n      <td><img src=\"https://static.cdn.asset.filimo.com/flmt/mov_6037_598-m.jpg\" width=\"60\" ></td>\n      <td>49300.0</td>\n      <td>فیلم</td>\n    </tr>\n    <tr>\n      <th>4</th>\n      <td>پوزه چرمی</td>\n      <td>ندا مقصودی,وحید جباری</td>\n      <td>68.0</td>\n      <td>مردی برای رسیدن به اهدافش با پس انداز همسرش دست به خرید اره برقی می زند ...</td>\n      <td>['فیلم تئاتر', 'خانوادگی']</td>\n      <td>[' محمدعلی زمانی', ' هلموت کراوزر', ' محمد مهدی صباغیان', ' رامین ارقند', ' نسیم ملکی', ' وحید صالحی', ' مسعود خرداد', ' وحید مشایخی']</td>\n      <td><img src=\"https://static.cdn.asset.filimo.com/flmt/mov_2585_38171-m.jpg\" width=\"60\" ></td>\n      <td>18200.0</td>\n      <td>فیلم</td>\n    </tr>\n    <tr>\n      <th>5</th>\n      <td>همکلاس</td>\n      <td>علی قربان زاده,رامبد شکرآبی,حدیث فولادوند,پرستو صالحی,غلامعلی برجسته</td>\n      <td>77.0</td>\n      <td>NaN</td>\n      <td>['خانوادگی', 'اجتماعی']</td>\n      <td>[' سعید خورشیدیان', ' محسن مسافرچی', ' سعید خورشیدیان', ' غلامعلی برجسته', ' بهرام سعیدی', ' حسین ملکی']</td>\n      <td><img src=\"https://static.cdn.asset.filimo.com/flmt/mov_34072_15582-m.jpg\" width=\"60\" ></td>\n      <td>35800.0</td>\n      <td>فیلم</td>\n    </tr>\n    <tr>\n      <th>6</th>\n      <td>شکلاتی</td>\n      <td>شبنم مقدمی,ناصر هاشمی,محمدرضا هدایتی,ارژنگ امیرفضلی,فرزین محدث,علیرضا مسعودی</td>\n      <td>90.0</td>\n      <td>فیلم شکلاتی درباره این فیلم درباره کارخانه شکلات سازی است که به پارسای ۱۳ ساله ارث می رسد و پارسا با کمک دوستان خود سعی در اداره آن دارد.</td>\n      <td>['خانوادگی', 'کمدی']</td>\n      <td>[' سهیل موفق', ' کریم خودسیانی', ' ایرج محمدی']</td>\n      <td><img src=\"https://static.cdn.asset.filimo.com/flmt/mov_26799_1-m.jpg\" width=\"60\" ></td>\n      <td>1833000.0</td>\n      <td>فیلم</td>\n    </tr>\n    <tr>\n      <th>7</th>\n      <td>دلشوره</td>\n      <td>مجید مشیری,امیرمحمد زند,کوروش سلیمانی,معصومه میرحسینی,ملیکا طباخی</td>\n      <td>73.0</td>\n      <td>NaN</td>\n      <td>['خانوادگی', 'اجتماعی']</td>\n      <td>[' مهرداد پوراحمد', ' کیومرث پوراحمد', ' کیومرث پوراحمد', ' ناصر کاووسی']</td>\n      <td><img src=\"https://static.cdn.asset.filimo.com/flmt/mov_33760_717-m.jpg\" width=\"60\" ></td>\n      <td>11400.0</td>\n      <td>فیلم</td>\n    </tr>\n    <tr>\n      <th>8</th>\n      <td>فریاد در شب</td>\n      <td>ایرج نوذری,حدیث فولادوند,نازنین کریمی,محمود مقامی,زهره حمیدی</td>\n      <td>69.0</td>\n      <td>دختری به نام هما که در فراز و نشیب زندگی اثیر حوادثی می شود که زندگی او را از سیر طبیعی خود خارج کرده و او را دچار کابوس می کند. همزمان او در گیر و دار قتل هایی قرار می گیرد که پلیس به دنبال پیداکردن سرنخی برای سرمنشأ این قتل هاست.</td>\n      <td>['خانوادگی', 'اجتماعی']</td>\n      <td>[' کریم رجبی', ' هایده رزم آور', ' مسعود عسگری']</td>\n      <td><img src=\"https://static.cdn.asset.filimo.com/flmt/mov_11376_14525-m.jpg\" width=\"60\" ></td>\n      <td>22400.0</td>\n      <td>فیلم</td>\n    </tr>\n    <tr>\n      <th>9</th>\n      <td>افسانه های جاویدان - حکایت های مثنوی معنوی</td>\n      <td></td>\n      <td>82.0</td>\n      <td>پادشاه قدرتمند و توانایی, روزی برای شكار با درباریان خود به صحرا رفت, در راه كنیزك زیبایی دید و عاشق او شد. پول فراوان داد و دخترك را از اربابش خرید, پس از مدتی كه با كنیزك بود. كنیزك بیمار شد و شاه بسیار غمناك گردید.</td>\n      <td>['تاریخی | مذهبی']</td>\n      <td>[' رسول نجفیان', ' محمود کشاورز', ' شامل تافته']</td>\n      <td><img src=\"https://static.cdn.asset.filimo.com/flmt/mov_310_817-m.jpg\" width=\"60\" ></td>\n      <td>23700.0</td>\n      <td>فیلم</td>\n    </tr>\n  </tbody>\n</table>"
     },
     "execution_count": 3,
     "metadata": {},
     "output_type": "execute_result"
    }
   ],
   "source": [
    "def path_to_image_html(path): ##by ARIAN GHASEMI\n",
    "    return '<img src=\"'+ path + '\" width=\"60\" >'\n",
    "HTML(df[0:10].to_html(escape=False,formatters=dict(Image=path_to_image_html)))"
   ],
   "metadata": {
    "collapsed": false,
    "pycharm": {
     "name": "#%%\n"
    }
   }
  },
  {
   "cell_type": "code",
   "execution_count": null,
   "outputs": [],
   "source": [],
   "metadata": {
    "collapsed": false,
    "pycharm": {
     "name": "#%%\n"
    }
   }
  }
 ],
 "metadata": {
  "kernelspec": {
   "display_name": "Python 3",
   "language": "python",
   "name": "python3"
  },
  "language_info": {
   "codemirror_mode": {
    "name": "ipython",
    "version": 2
   },
   "file_extension": ".py",
   "mimetype": "text/x-python",
   "name": "python",
   "nbconvert_exporter": "python",
   "pygments_lexer": "ipython2",
   "version": "2.7.6"
  }
 },
 "nbformat": 4,
 "nbformat_minor": 0
}